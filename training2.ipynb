{
 "cells": [
  {
   "cell_type": "code",
   "execution_count": 18,
   "metadata": {},
   "outputs": [
    {
     "name": "stdout",
     "output_type": "stream",
     "text": [
      "Requirement already satisfied: llama-index-embeddings-together in ./venv/lib64/python3.11/site-packages (0.2.0)\n",
      "Requirement already satisfied: llama-index-core<0.12.0,>=0.11.0 in ./venv/lib64/python3.11/site-packages (from llama-index-embeddings-together) (0.11.9)\n",
      "Requirement already satisfied: PyYAML>=6.0.1 in ./venv/lib64/python3.11/site-packages (from llama-index-core<0.12.0,>=0.11.0->llama-index-embeddings-together) (6.0.2)\n",
      "Requirement already satisfied: SQLAlchemy>=1.4.49 in ./venv/lib64/python3.11/site-packages (from SQLAlchemy[asyncio]>=1.4.49->llama-index-core<0.12.0,>=0.11.0->llama-index-embeddings-together) (2.0.34)\n",
      "Requirement already satisfied: aiohttp<4.0.0,>=3.8.6 in ./venv/lib64/python3.11/site-packages (from llama-index-core<0.12.0,>=0.11.0->llama-index-embeddings-together) (3.10.5)\n",
      "Requirement already satisfied: dataclasses-json in ./venv/lib64/python3.11/site-packages (from llama-index-core<0.12.0,>=0.11.0->llama-index-embeddings-together) (0.6.7)\n",
      "Requirement already satisfied: deprecated>=1.2.9.3 in ./venv/lib64/python3.11/site-packages (from llama-index-core<0.12.0,>=0.11.0->llama-index-embeddings-together) (1.2.14)\n",
      "Requirement already satisfied: dirtyjson<2.0.0,>=1.0.8 in ./venv/lib64/python3.11/site-packages (from llama-index-core<0.12.0,>=0.11.0->llama-index-embeddings-together) (1.0.8)\n",
      "Requirement already satisfied: fsspec>=2023.5.0 in ./venv/lib64/python3.11/site-packages (from llama-index-core<0.12.0,>=0.11.0->llama-index-embeddings-together) (2024.9.0)\n",
      "Requirement already satisfied: httpx in ./venv/lib64/python3.11/site-packages (from llama-index-core<0.12.0,>=0.11.0->llama-index-embeddings-together) (0.27.2)\n",
      "Requirement already satisfied: nest-asyncio<2.0.0,>=1.5.8 in ./venv/lib64/python3.11/site-packages (from llama-index-core<0.12.0,>=0.11.0->llama-index-embeddings-together) (1.6.0)\n",
      "Requirement already satisfied: networkx>=3.0 in ./venv/lib64/python3.11/site-packages (from llama-index-core<0.12.0,>=0.11.0->llama-index-embeddings-together) (3.3)\n",
      "Requirement already satisfied: nltk>3.8.1 in ./venv/lib64/python3.11/site-packages (from llama-index-core<0.12.0,>=0.11.0->llama-index-embeddings-together) (3.9.1)\n",
      "Requirement already satisfied: numpy<2.0.0 in ./venv/lib64/python3.11/site-packages (from llama-index-core<0.12.0,>=0.11.0->llama-index-embeddings-together) (1.26.4)\n",
      "Requirement already satisfied: pillow>=9.0.0 in ./venv/lib64/python3.11/site-packages (from llama-index-core<0.12.0,>=0.11.0->llama-index-embeddings-together) (10.4.0)\n",
      "Requirement already satisfied: pydantic<3.0.0,>=2.7.0 in ./venv/lib64/python3.11/site-packages (from llama-index-core<0.12.0,>=0.11.0->llama-index-embeddings-together) (2.9.1)\n",
      "Requirement already satisfied: requests>=2.31.0 in ./venv/lib64/python3.11/site-packages (from llama-index-core<0.12.0,>=0.11.0->llama-index-embeddings-together) (2.32.3)\n",
      "Requirement already satisfied: tenacity!=8.4.0,<9.0.0,>=8.2.0 in ./venv/lib64/python3.11/site-packages (from llama-index-core<0.12.0,>=0.11.0->llama-index-embeddings-together) (8.5.0)\n",
      "Requirement already satisfied: tiktoken>=0.3.3 in ./venv/lib64/python3.11/site-packages (from llama-index-core<0.12.0,>=0.11.0->llama-index-embeddings-together) (0.7.0)\n",
      "Requirement already satisfied: tqdm<5.0.0,>=4.66.1 in ./venv/lib64/python3.11/site-packages (from llama-index-core<0.12.0,>=0.11.0->llama-index-embeddings-together) (4.66.5)\n",
      "Requirement already satisfied: typing-extensions>=4.5.0 in ./venv/lib64/python3.11/site-packages (from llama-index-core<0.12.0,>=0.11.0->llama-index-embeddings-together) (4.12.2)\n",
      "Requirement already satisfied: typing-inspect>=0.8.0 in ./venv/lib64/python3.11/site-packages (from llama-index-core<0.12.0,>=0.11.0->llama-index-embeddings-together) (0.9.0)\n",
      "Requirement already satisfied: wrapt in ./venv/lib64/python3.11/site-packages (from llama-index-core<0.12.0,>=0.11.0->llama-index-embeddings-together) (1.16.0)\n",
      "Requirement already satisfied: aiohappyeyeballs>=2.3.0 in ./venv/lib64/python3.11/site-packages (from aiohttp<4.0.0,>=3.8.6->llama-index-core<0.12.0,>=0.11.0->llama-index-embeddings-together) (2.4.0)\n",
      "Requirement already satisfied: aiosignal>=1.1.2 in ./venv/lib64/python3.11/site-packages (from aiohttp<4.0.0,>=3.8.6->llama-index-core<0.12.0,>=0.11.0->llama-index-embeddings-together) (1.3.1)\n",
      "Requirement already satisfied: attrs>=17.3.0 in ./venv/lib64/python3.11/site-packages (from aiohttp<4.0.0,>=3.8.6->llama-index-core<0.12.0,>=0.11.0->llama-index-embeddings-together) (24.2.0)\n",
      "Requirement already satisfied: frozenlist>=1.1.1 in ./venv/lib64/python3.11/site-packages (from aiohttp<4.0.0,>=3.8.6->llama-index-core<0.12.0,>=0.11.0->llama-index-embeddings-together) (1.4.1)\n",
      "Requirement already satisfied: multidict<7.0,>=4.5 in ./venv/lib64/python3.11/site-packages (from aiohttp<4.0.0,>=3.8.6->llama-index-core<0.12.0,>=0.11.0->llama-index-embeddings-together) (6.1.0)\n",
      "Requirement already satisfied: yarl<2.0,>=1.0 in ./venv/lib64/python3.11/site-packages (from aiohttp<4.0.0,>=3.8.6->llama-index-core<0.12.0,>=0.11.0->llama-index-embeddings-together) (1.11.1)\n",
      "Requirement already satisfied: click in ./venv/lib64/python3.11/site-packages (from nltk>3.8.1->llama-index-core<0.12.0,>=0.11.0->llama-index-embeddings-together) (8.1.7)\n",
      "Requirement already satisfied: joblib in ./venv/lib64/python3.11/site-packages (from nltk>3.8.1->llama-index-core<0.12.0,>=0.11.0->llama-index-embeddings-together) (1.4.2)\n",
      "Requirement already satisfied: regex>=2021.8.3 in ./venv/lib64/python3.11/site-packages (from nltk>3.8.1->llama-index-core<0.12.0,>=0.11.0->llama-index-embeddings-together) (2024.9.11)\n",
      "Requirement already satisfied: annotated-types>=0.6.0 in ./venv/lib64/python3.11/site-packages (from pydantic<3.0.0,>=2.7.0->llama-index-core<0.12.0,>=0.11.0->llama-index-embeddings-together) (0.7.0)\n",
      "Requirement already satisfied: pydantic-core==2.23.3 in ./venv/lib64/python3.11/site-packages (from pydantic<3.0.0,>=2.7.0->llama-index-core<0.12.0,>=0.11.0->llama-index-embeddings-together) (2.23.3)\n",
      "Requirement already satisfied: charset-normalizer<4,>=2 in ./venv/lib64/python3.11/site-packages (from requests>=2.31.0->llama-index-core<0.12.0,>=0.11.0->llama-index-embeddings-together) (3.3.2)\n",
      "Requirement already satisfied: idna<4,>=2.5 in ./venv/lib64/python3.11/site-packages (from requests>=2.31.0->llama-index-core<0.12.0,>=0.11.0->llama-index-embeddings-together) (3.8)\n",
      "Requirement already satisfied: urllib3<3,>=1.21.1 in ./venv/lib64/python3.11/site-packages (from requests>=2.31.0->llama-index-core<0.12.0,>=0.11.0->llama-index-embeddings-together) (2.2.3)\n",
      "Requirement already satisfied: certifi>=2017.4.17 in ./venv/lib64/python3.11/site-packages (from requests>=2.31.0->llama-index-core<0.12.0,>=0.11.0->llama-index-embeddings-together) (2024.8.30)\n",
      "Requirement already satisfied: greenlet!=0.4.17 in ./venv/lib64/python3.11/site-packages (from SQLAlchemy>=1.4.49->SQLAlchemy[asyncio]>=1.4.49->llama-index-core<0.12.0,>=0.11.0->llama-index-embeddings-together) (3.1.0)\n",
      "Requirement already satisfied: mypy-extensions>=0.3.0 in ./venv/lib64/python3.11/site-packages (from typing-inspect>=0.8.0->llama-index-core<0.12.0,>=0.11.0->llama-index-embeddings-together) (1.0.0)\n",
      "Requirement already satisfied: marshmallow<4.0.0,>=3.18.0 in ./venv/lib64/python3.11/site-packages (from dataclasses-json->llama-index-core<0.12.0,>=0.11.0->llama-index-embeddings-together) (3.22.0)\n",
      "Requirement already satisfied: anyio in ./venv/lib64/python3.11/site-packages (from httpx->llama-index-core<0.12.0,>=0.11.0->llama-index-embeddings-together) (4.4.0)\n",
      "Requirement already satisfied: httpcore==1.* in ./venv/lib64/python3.11/site-packages (from httpx->llama-index-core<0.12.0,>=0.11.0->llama-index-embeddings-together) (1.0.5)\n",
      "Requirement already satisfied: sniffio in ./venv/lib64/python3.11/site-packages (from httpx->llama-index-core<0.12.0,>=0.11.0->llama-index-embeddings-together) (1.3.1)\n",
      "Requirement already satisfied: h11<0.15,>=0.13 in ./venv/lib64/python3.11/site-packages (from httpcore==1.*->httpx->llama-index-core<0.12.0,>=0.11.0->llama-index-embeddings-together) (0.14.0)\n",
      "Requirement already satisfied: packaging>=17.0 in ./venv/lib64/python3.11/site-packages (from marshmallow<4.0.0,>=3.18.0->dataclasses-json->llama-index-core<0.12.0,>=0.11.0->llama-index-embeddings-together) (24.1)\n",
      "\n",
      "\u001b[1m[\u001b[0m\u001b[34;49mnotice\u001b[0m\u001b[1;39;49m]\u001b[0m\u001b[39;49m A new release of pip is available: \u001b[0m\u001b[31;49m24.0\u001b[0m\u001b[39;49m -> \u001b[0m\u001b[32;49m24.2\u001b[0m\n",
      "\u001b[1m[\u001b[0m\u001b[34;49mnotice\u001b[0m\u001b[1;39;49m]\u001b[0m\u001b[39;49m To update, run: \u001b[0m\u001b[32;49mpip install --upgrade pip\u001b[0m\n",
      "Note: you may need to restart the kernel to use updated packages.\n"
     ]
    }
   ],
   "source": [
    "%pip install llama-index-readers-file pymupdf\n",
    "%pip install llama-index-vector-stores-chroma\n",
    "%pip install llama-index-embeddings-together"
   ]
  },
  {
   "cell_type": "code",
   "execution_count": 2,
   "metadata": {},
   "outputs": [],
   "source": [
    "import os\n",
    "from dotenv import load_dotenv\n",
    "load_dotenv()\n",
    "\n",
    "api_key=os.getenv(\"TOEGETHER_API_KEY\")\n",
    "\n",
    "from llama_index.embeddings.together import TogetherEmbedding\n",
    "\n",
    "embed_model = TogetherEmbedding(\n",
    "    model_name=\"togethercomputer/m2-bert-80M-8k-retrieval\", api_key=api_key\n",
    ")"
   ]
  },
  {
   "cell_type": "code",
   "execution_count": 34,
   "metadata": {},
   "outputs": [],
   "source": [
    "from llama_index.core import VectorStoreIndex\n",
    "from llama_index.vector_stores.chroma import ChromaVectorStore\n",
    "from llama_index.core import StorageContext\n",
    "from IPython.display import Markdown, display\n",
    "from llama_index.core import Settings\n",
    "import chromadb"
   ]
  },
  {
   "cell_type": "code",
   "execution_count": 47,
   "metadata": {},
   "outputs": [],
   "source": [
    "chroma_client = chromadb.EphemeralClient()\n",
    "chroma_collection = chroma_client.create_collection(\"quickstart\")"
   ]
  },
  {
   "cell_type": "code",
   "execution_count": 14,
   "metadata": {},
   "outputs": [
    {
     "name": "stdout",
     "output_type": "stream",
     "text": [
      "8\n",
      "Doc ID: 2058d919-99e7-4bd0-b10d-4b11a73775d6\n",
      "Text: See discussions, stats, and author profiles for this publication\n",
      "at: https://www.researchgate.net/publication/317604534 The impact of\n",
      "attention deﬁcit hyperactivity disorder (ADHD) in adulthood: a\n",
      "qualitative study Article  in  Irish Journal of Psychological Medicine\n",
      "· June 2017 DOI: 10.1017/ipm.2017.21 CITATIONS 18 READS 40,738 4\n",
      "authors, inclu...\n"
     ]
    }
   ],
   "source": [
    "\n",
    "from pathlib import Path\n",
    "from llama_index.readers.file import PyMuPDFReader\n",
    "\n",
    "\n",
    "loader = PyMuPDFReader()\n",
    "documents = loader.load(file_path=\"./data/adhd.pdf\")\n",
    "\n",
    "print(len(documents))\n",
    "print(documents[0])"
   ]
  },
  {
   "cell_type": "code",
   "execution_count": 59,
   "metadata": {},
   "outputs": [],
   "source": [
    "from llama_index.core import Document\n",
    "\n",
    "document = Document(text=\"\\n\\n\".join([doc.text for doc in documents]))"
   ]
  },
  {
   "cell_type": "code",
   "execution_count": 46,
   "metadata": {},
   "outputs": [],
   "source": [
    "from llama_index.core.node_parser import SentenceSplitter\n",
    "\n",
    "text_splitter = SentenceSplitter(\n",
    "  separator=\" \",\n",
    "  chunk_size=1024,\n",
    "  chunk_overlap=20,\n",
    "  paragraph_separator=\"\\n\\n\\n\",\n",
    "  secondary_chunking_regex=\"[^,.;。]+[,.;。]?\",\n",
    "\n",
    ")\n"
   ]
  },
  {
   "cell_type": "code",
   "execution_count": 19,
   "metadata": {},
   "outputs": [
    {
     "name": "stderr",
     "output_type": "stream",
     "text": [
      "/home/abenittz/workspace/icog-training/rag-app/Rag-training2/venv/lib64/python3.11/site-packages/tqdm/auto.py:21: TqdmWarning: IProgress not found. Please update jupyter and ipywidgets. See https://ipywidgets.readthedocs.io/en/stable/user_install.html\n",
      "  from .autonotebook import tqdm as notebook_tqdm\n",
      "None of PyTorch, TensorFlow >= 2.0, or Flax have been found. Models won't be available and only tokenizers, configuration and file/data utilities can be used.\n"
     ]
    }
   ],
   "source": [
    "from llama_index.llms.together import TogetherLLM\n"
   ]
  },
  {
   "cell_type": "code",
   "execution_count": 20,
   "metadata": {},
   "outputs": [],
   "source": [
    "llm = TogetherLLM(\n",
    "    model=\"mistralai/Mixtral-8x7B-Instruct-v0.1\", api_key=api_key\n",
    ")"
   ]
  },
  {
   "cell_type": "code",
   "execution_count": 48,
   "metadata": {},
   "outputs": [],
   "source": [
    "index = VectorStoreIndex.from_documents(\n",
    "    documents, embed_model=embed_model\n",
    ")"
   ]
  },
  {
   "cell_type": "code",
   "execution_count": 52,
   "metadata": {},
   "outputs": [
    {
     "name": "stdout",
     "output_type": "stream",
     "text": [
      " Based on the information provided, ADHD refers to Attention Deficit Hyperactivity Disorder. It is a condition that affects a person's ability to concentrate, control impulsive behavior, and in some cases, can also lead to hyperactivity. Participants in the study mentioned how their symptoms have impacted their lives, including their education, career, and self-esteem. Some participants also noted the benefits of their ADHD symptoms, such as being impulsive and easily distracted, which they found contributed to their unique personality and exciting experiences.\n"
     ]
    }
   ],
   "source": [
    "query_engine = index.as_query_engine(llm=llm)\n",
    "response = query_engine.query(\"What is adhd?\")\n",
    "print(response)\n"
   ]
  },
  {
   "cell_type": "code",
   "execution_count": 54,
   "metadata": {},
   "outputs": [],
   "source": [
    "from llama_index.core.node_parser import SentenceWindowNodeParser\n",
    "\n",
    "# create the sentence window node parser w/ default settings\n",
    "node_parser = SentenceWindowNodeParser.from_defaults(\n",
    "    window_size=3,\n",
    "    window_metadata_key=\"window\",\n",
    "    original_text_metadata_key=\"original_text\",\n",
    ")"
   ]
  },
  {
   "cell_type": "code",
   "execution_count": 63,
   "metadata": {},
   "outputs": [],
   "source": [
    "Settings.llm = llm\n",
    "Settings.embed_model = embed_model\n",
    "Settings.node_parser = node_parser\n"
   ]
  },
  {
   "cell_type": "code",
   "execution_count": 60,
   "metadata": {},
   "outputs": [],
   "source": [
    "text = \"hello. how are you? I am fine!  \"\n",
    "\n",
    "nodes = node_parser.get_nodes_from_documents([Document(text=text)])"
   ]
  },
  {
   "cell_type": "code",
   "execution_count": 62,
   "metadata": {},
   "outputs": [
    {
     "name": "stdout",
     "output_type": "stream",
     "text": [
      "['hello. ', 'how are you? ', 'I am fine!  ']\n",
      "hello.  how are you?  I am fine!  \n"
     ]
    }
   ],
   "source": [
    "print([x.text for x in nodes])\n",
    "print(nodes[1].metadata[\"window\"])"
   ]
  },
  {
   "cell_type": "code",
   "execution_count": null,
   "metadata": {},
   "outputs": [],
   "source": [
    "sentence_index = VectorStoreIndex.from_documents(\n",
    "    document, embed_model=embed_model\n",
    ")"
   ]
  }
 ],
 "metadata": {
  "kernelspec": {
   "display_name": "venv",
   "language": "python",
   "name": "python3"
  },
  "language_info": {
   "codemirror_mode": {
    "name": "ipython",
    "version": 3
   },
   "file_extension": ".py",
   "mimetype": "text/x-python",
   "name": "python",
   "nbconvert_exporter": "python",
   "pygments_lexer": "ipython3",
   "version": "3.11.9"
  }
 },
 "nbformat": 4,
 "nbformat_minor": 2
}
